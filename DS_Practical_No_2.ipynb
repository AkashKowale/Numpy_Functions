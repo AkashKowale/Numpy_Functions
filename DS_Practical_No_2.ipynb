{
  "nbformat": 4,
  "nbformat_minor": 0,
  "metadata": {
    "colab": {
      "provenance": []
    },
    "kernelspec": {
      "name": "python3",
      "display_name": "Python 3"
    },
    "language_info": {
      "name": "python"
    }
  },
  "cells": [
    {
      "cell_type": "markdown",
      "source": [
        "#*Practical No.2 - Numpy Function*\n"
      ],
      "metadata": {
        "id": "vwUYcAxHsxx1"
      }
    },
    {
      "cell_type": "markdown",
      "source": [
        "Q. SHOW CASE NUMPY FUCNTIONS FOR DATA ANALYSIS PROCESS"
      ],
      "metadata": {
        "id": "DlQIKdxxs6gT"
      }
    },
    {
      "cell_type": "code",
      "source": [
        "#Import Libraries\n",
        "\n",
        "import pandas as pd\n",
        "import numpy as np"
      ],
      "metadata": {
        "id": "Qp758Tkhs6Kv"
      },
      "execution_count": null,
      "outputs": []
    },
    {
      "cell_type": "code",
      "source": [
        "#Array (used to create an array)\n",
        "\n",
        "print(np.array([1,2,3,4]))\n",
        "print(np.array(pd.Series([1,2,3,4])))"
      ],
      "metadata": {
        "colab": {
          "base_uri": "https://localhost:8080/"
        },
        "id": "EN3M0N_pse8P",
        "outputId": "0574ba48-4439-4ec6-d045-e2b3b54669a0"
      },
      "execution_count": null,
      "outputs": [
        {
          "output_type": "stream",
          "name": "stdout",
          "text": [
            "[1 2 3 4]\n",
            "[1 2 3 4]\n"
          ]
        }
      ]
    },
    {
      "cell_type": "code",
      "source": [
        "#Arange (creates an array in a range with a specified increment)  \n",
        "\n",
        "print(np.arange(2,10,2))\n",
        "\n",
        "print(np.arange(0,20,5))"
      ],
      "metadata": {
        "colab": {
          "base_uri": "https://localhost:8080/"
        },
        "id": "4sLKyYDmswSn",
        "outputId": "fefa5284-3ca0-454d-f96f-ac8016438abe"
      },
      "execution_count": null,
      "outputs": [
        {
          "output_type": "stream",
          "name": "stdout",
          "text": [
            "[2 4 6 8]\n",
            "[ 0  5 10 15]\n"
          ]
        }
      ]
    },
    {
      "cell_type": "code",
      "source": [
        "#Linspace (creates an array in a specified range with equidistant elements)\n",
        "\n",
        "print(np.linspace(0,20,10))\n",
        "\n",
        "print(np.linspace(0,1,5))"
      ],
      "metadata": {
        "id": "kCRsgr6Euvhk",
        "colab": {
          "base_uri": "https://localhost:8080/"
        },
        "outputId": "be52a48e-d834-4ec3-cec7-1b5e33b28478"
      },
      "execution_count": null,
      "outputs": [
        {
          "output_type": "stream",
          "name": "stdout",
          "text": [
            "[ 0.          2.22222222  4.44444444  6.66666667  8.88888889 11.11111111\n",
            " 13.33333333 15.55555556 17.77777778 20.        ]\n",
            "[0.   0.25 0.5  0.75 1.  ]\n"
          ]
        }
      ]
    },
    {
      "cell_type": "code",
      "source": [
        "#Unique (It returns the number of unique elements in an array)\n",
        "\n",
        "a = np.array([1,1,1,2,2,3,3,3,4,4,4])\n",
        "\n",
        "print(np.unique(a))\n",
        "\n",
        "print(np.unique(a, return_counts = True)) #Its shows how many unique element in array and how many times it occurred"
      ],
      "metadata": {
        "colab": {
          "base_uri": "https://localhost:8080/"
        },
        "id": "uBBDWZ1oayzq",
        "outputId": "4b424892-b3fa-4c6d-bd0f-1d31b421ca57"
      },
      "execution_count": null,
      "outputs": [
        {
          "output_type": "stream",
          "name": "stdout",
          "text": [
            "[1 2 3 4]\n",
            "(array([1, 2, 3, 4]), array([3, 2, 3, 3]))\n"
          ]
        }
      ]
    },
    {
      "cell_type": "code",
      "source": [
        "#Argmax and argmin (return the indices of maximum and minimum values along an axis)\n",
        "\n",
        "A = np.random.randint(10,size = (4,3))\n",
        "\n",
        "print(A)"
      ],
      "metadata": {
        "colab": {
          "base_uri": "https://localhost:8080/"
        },
        "id": "3rACeMnvbx21",
        "outputId": "48e5436c-96d5-4447-d192-d55d284a1827"
      },
      "execution_count": null,
      "outputs": [
        {
          "output_type": "stream",
          "name": "stdout",
          "text": [
            "[[5 4 5]\n",
            " [2 8 9]\n",
            " [2 2 7]\n",
            " [2 0 4]]\n"
          ]
        }
      ]
    },
    {
      "cell_type": "code",
      "source": [
        "print(np.argmax(A, axis = 1)) #Argmax with axis=1 will return the indices of the maximum values in each row\n",
        "\n",
        "print(np.argmin(A,axis = 0))  #Argmin with axis=0 will return the indices of the minimum values in each column"
      ],
      "metadata": {
        "colab": {
          "base_uri": "https://localhost:8080/"
        },
        "id": "Ysva1D73cZvj",
        "outputId": "a2d77ec5-8b03-422d-d578-116851d8c3e1"
      },
      "execution_count": null,
      "outputs": [
        {
          "output_type": "stream",
          "name": "stdout",
          "text": [
            "[0 2 2 2]\n",
            "[1 3 3]\n"
          ]
        }
      ]
    },
    {
      "cell_type": "code",
      "source": [
        "#Random.random (creates an array with random floats between 0 and 1)\n",
        "\n",
        "np.random.random(4)"
      ],
      "metadata": {
        "colab": {
          "base_uri": "https://localhost:8080/"
        },
        "id": "ogXMQHrccxvC",
        "outputId": "f41c83d4-2a6f-4947-f61c-367df19fb83c"
      },
      "execution_count": null,
      "outputs": [
        {
          "output_type": "execute_result",
          "data": {
            "text/plain": [
              "array([0.31601083, 0.58358918, 0.54999293, 0.65447964])"
            ]
          },
          "metadata": {},
          "execution_count": 29
        }
      ]
    },
    {
      "cell_type": "code",
      "source": [
        "#Random.randint (creates an array of integers in any shape)\n",
        "\n",
        "np.random.randint(0,5, size = 10)"
      ],
      "metadata": {
        "colab": {
          "base_uri": "https://localhost:8080/"
        },
        "id": "mJo_hE8bdW5D",
        "outputId": "33d0bb86-2d8f-49d0-922e-426365d677d3"
      },
      "execution_count": null,
      "outputs": [
        {
          "output_type": "execute_result",
          "data": {
            "text/plain": [
              "array([0, 4, 3, 4, 0, 1, 0, 0, 3, 3])"
            ]
          },
          "metadata": {},
          "execution_count": 30
        }
      ]
    },
    {
      "cell_type": "code",
      "source": [
        "#Random.randn (returns a samples from the standard normal distribution)\n",
        "\n",
        "a = np.random.randn(10000)\n",
        "\n",
        "print(\"Mean = \",a.mean())\n",
        "print(\"Variance = \",a.var())"
      ],
      "metadata": {
        "colab": {
          "base_uri": "https://localhost:8080/"
        },
        "id": "0fHw9AvXdklk",
        "outputId": "c65b5800-2443-4d28-a025-7215ed70d3d2"
      },
      "execution_count": null,
      "outputs": [
        {
          "output_type": "stream",
          "name": "stdout",
          "text": [
            "Mean =  -0.012116387593045006\n",
            "Variance =  0.9937622891209769\n"
          ]
        }
      ]
    },
    {
      "cell_type": "code",
      "source": [
        "pd.Series(a).plot(kind = 'kde', figsize = (8,5)) #plot the values to observe the standard normal distribution"
      ],
      "metadata": {
        "colab": {
          "base_uri": "https://localhost:8080/",
          "height": 337
        },
        "id": "SMP-FUxFeQ4i",
        "outputId": "cb0cad51-5895-45d0-81f4-f98893bbe298"
      },
      "execution_count": null,
      "outputs": [
        {
          "output_type": "execute_result",
          "data": {
            "text/plain": [
              "<matplotlib.axes._subplots.AxesSubplot at 0x7f4d68d14f90>"
            ]
          },
          "metadata": {},
          "execution_count": 32
        },
        {
          "output_type": "display_data",
          "data": {
            "text/plain": [
              "<Figure size 576x360 with 1 Axes>"
            ],
            "image/png": "[encoded data removed]"
          },
          "metadata": {
            "needs_background": "light"
          }
        }
      ]
    },
    {
      "cell_type": "code",
      "source": [
        "#Random.shuffle (modifies the sequence of an array by shuffling its elements)\n",
        "\n",
        "\n",
        "A = np.array([0,1,2,3,4,5,6,7,8,9])\n",
        "print(\"Before Shuffle : \",A)\n",
        "np.random.shuffle(A)\n",
        "print(\"After Shuffle : \",A)"
      ],
      "metadata": {
        "colab": {
          "base_uri": "https://localhost:8080/"
        },
        "id": "jKecOSakes7A",
        "outputId": "adb4cc19-1a7c-4daf-b86b-a008b5988291"
      },
      "execution_count": null,
      "outputs": [
        {
          "output_type": "stream",
          "name": "stdout",
          "text": [
            "Before Shuffle :  [0 1 2 3 4 5 6 7 8 9]\n",
            "After Shuffle :  [2 9 8 0 7 1 6 5 3 4]\n"
          ]
        }
      ]
    },
    {
      "cell_type": "code",
      "source": [
        "#Reshape (changes the shape of an array)\n",
        "\n",
        "a = np.random.randint(10 , size = (4,3))\n",
        "print(a)\n",
        "a.reshape(6,2) "
      ],
      "metadata": {
        "colab": {
          "base_uri": "https://localhost:8080/"
        },
        "id": "gQjJDvZme-Tz",
        "outputId": "d181e6c4-63f9-4223-beda-d60d7dd8c237"
      },
      "execution_count": null,
      "outputs": [
        {
          "output_type": "stream",
          "name": "stdout",
          "text": [
            "[[3 9 9]\n",
            " [1 9 3]\n",
            " [2 4 0]\n",
            " [8 9 3]]\n"
          ]
        },
        {
          "output_type": "execute_result",
          "data": {
            "text/plain": [
              "array([[3, 9],\n",
              "       [9, 1],\n",
              "       [9, 3],\n",
              "       [2, 4],\n",
              "       [0, 8],\n",
              "       [9, 3]])"
            ]
          },
          "metadata": {},
          "execution_count": 38
        }
      ]
    },
    {
      "cell_type": "code",
      "source": [
        "#Expand_dims (It expands the dimension of an array)\n",
        "\n",
        "a = np.array([1,2,3,4])\n",
        "print(\"Before Expand, Dimension  : \",a.ndim)\n",
        "print(\"After Expand, Dimension : \",np.expand_dims(a,axis = 1).ndim)"
      ],
      "metadata": {
        "colab": {
          "base_uri": "https://localhost:8080/"
        },
        "id": "byEUWx2Hfpm2",
        "outputId": "dc416889-6272-4099-bc4d-2cab5236b8ad"
      },
      "execution_count": null,
      "outputs": [
        {
          "output_type": "stream",
          "name": "stdout",
          "text": [
            "Before Expand, Dimension  :  1\n",
            "After Expand, Dimension :  2\n"
          ]
        }
      ]
    },
    {
      "cell_type": "code",
      "source": [
        "#Count_nonzero (returns the count of non-zero elements in an array)\n",
        "\n",
        "b = np.random.randint(0,5, size = 20)\n",
        "np.count_nonzero(b)"
      ],
      "metadata": {
        "colab": {
          "base_uri": "https://localhost:8080/"
        },
        "id": "JsNOD5pjhCOg",
        "outputId": "eccbe171-9853-4068-c0cc-3ed96427aa15"
      },
      "execution_count": null,
      "outputs": [
        {
          "output_type": "execute_result",
          "data": {
            "text/plain": [
              "19"
            ]
          },
          "metadata": {},
          "execution_count": 48
        }
      ]
    },
    {
      "cell_type": "code",
      "source": [
        "#Argwhere (returns the indices of nonzero elements in an array)\n",
        "\n",
        "b = np.random.randint(0,3, size = (2,2))\n",
        "print(b)\n",
        "np.argwhere(b)"
      ],
      "metadata": {
        "colab": {
          "base_uri": "https://localhost:8080/"
        },
        "id": "IQEuidd_hDr0",
        "outputId": "90111450-f6b6-41f4-9277-41970663bec7"
      },
      "execution_count": null,
      "outputs": [
        {
          "output_type": "stream",
          "name": "stdout",
          "text": [
            "[[2 0]\n",
            " [1 1]]\n"
          ]
        },
        {
          "output_type": "execute_result",
          "data": {
            "text/plain": [
              "array([[0, 0],\n",
              "       [1, 0],\n",
              "       [1, 1]])"
            ]
          },
          "metadata": {},
          "execution_count": 58
        }
      ]
    },
    {
      "cell_type": "code",
      "source": [
        "#Zeros, Ones, Full (create arrays with zeros, ones, or a specific value)\n",
        "\n",
        "print(np.zeros(3))\n",
        "print('\\n')\n",
        "print(np.ones((2,3), dtype='int32 '))\n",
        "print('\\n')\n",
        "print(np.full((3,3),fill_value=9))"
      ],
      "metadata": {
        "colab": {
          "base_uri": "https://localhost:8080/"
        },
        "id": "HKYzUD4jiXeR",
        "outputId": "633faf85-7946-4f4c-e176-d2ef23c5757e"
      },
      "execution_count": null,
      "outputs": [
        {
          "output_type": "stream",
          "name": "stdout",
          "text": [
            "[0. 0. 0.]\n",
            "\n",
            "\n",
            "[[1 1 1]\n",
            " [1 1 1]]\n",
            "\n",
            "\n",
            "[[9 9 9]\n",
            " [9 9 9]\n",
            " [9 9 9]]\n"
          ]
        }
      ]
    },
    {
      "cell_type": "code",
      "source": [
        "#Eye and Identity (create identity matrix with a specified dimension)\n",
        "\n",
        "np.eye(3)"
      ],
      "metadata": {
        "colab": {
          "base_uri": "https://localhost:8080/"
        },
        "id": "eCNVHj5Gjnpp",
        "outputId": "7df29b08-ab38-4526-c453-39f747e8c495"
      },
      "execution_count": null,
      "outputs": [
        {
          "output_type": "execute_result",
          "data": {
            "text/plain": [
              "array([[1., 0., 0.],\n",
              "       [0., 1., 0.],\n",
              "       [0., 0., 1.]])"
            ]
          },
          "metadata": {},
          "execution_count": 67
        }
      ]
    },
    {
      "cell_type": "code",
      "source": [
        "np.identity(3,dtype = 'int32')"
      ],
      "metadata": {
        "colab": {
          "base_uri": "https://localhost:8080/"
        },
        "id": "9850g6Rukj9a",
        "outputId": "037512ec-a0f2-45d2-aa9a-1642a26d5096"
      },
      "execution_count": null,
      "outputs": [
        {
          "output_type": "execute_result",
          "data": {
            "text/plain": [
              "array([[1, 0, 0],\n",
              "       [0, 1, 0],\n",
              "       [0, 0, 1]], dtype=int32)"
            ]
          },
          "metadata": {},
          "execution_count": 68
        }
      ]
    },
    {
      "cell_type": "code",
      "source": [
        "#Ravel (returns a flattened array)\n",
        "\n",
        "a = np.random.randint(10 , size = (3,3))\n",
        "print(a)\n",
        "np.ravel(a)"
      ],
      "metadata": {
        "colab": {
          "base_uri": "https://localhost:8080/"
        },
        "id": "cZBiVcfqkr7-",
        "outputId": "e884bc5c-0413-405f-a5da-5b00b2c2d94e"
      },
      "execution_count": null,
      "outputs": [
        {
          "output_type": "stream",
          "name": "stdout",
          "text": [
            "[[1 2 0]\n",
            " [0 9 8]\n",
            " [4 5 1]]\n"
          ]
        },
        {
          "output_type": "execute_result",
          "data": {
            "text/plain": [
              "array([1, 2, 0, 0, 9, 8, 4, 5, 1])"
            ]
          },
          "metadata": {},
          "execution_count": 70
        }
      ]
    },
    {
      "cell_type": "code",
      "source": [
        "#Ravel function also allows column-wise concatenation using order parameter.\n",
        "\n",
        "np.ravel(a, order ='F')"
      ],
      "metadata": {
        "colab": {
          "base_uri": "https://localhost:8080/"
        },
        "id": "eN6NSfYTk6X1",
        "outputId": "f1b531a7-736a-494f-919e-cf11ad18acc8"
      },
      "execution_count": null,
      "outputs": [
        {
          "output_type": "execute_result",
          "data": {
            "text/plain": [
              "array([1, 0, 4, 2, 9, 5, 0, 8, 1])"
            ]
          },
          "metadata": {},
          "execution_count": 72
        }
      ]
    },
    {
      "cell_type": "code",
      "source": [
        "#Hsplit and Vsplit (split arrays vertically (vsplit) or horizontally (hsplit))\n",
        "\n",
        "\n",
        "a = np.random.randint(10 , size = (4,4))\n",
        "print(a)"
      ],
      "metadata": {
        "colab": {
          "base_uri": "https://localhost:8080/"
        },
        "id": "VZNzZTDqljOt",
        "outputId": "e829c14e-7d8d-41f2-ff08-1e8c8d45d7ea"
      },
      "execution_count": null,
      "outputs": [
        {
          "output_type": "stream",
          "name": "stdout",
          "text": [
            "[[1 5 2 7]\n",
            " [8 7 2 0]\n",
            " [4 2 0 1]\n",
            " [2 9 8 7]]\n"
          ]
        }
      ]
    },
    {
      "cell_type": "code",
      "source": [
        "np.hsplit(a,2)[0]"
      ],
      "metadata": {
        "colab": {
          "base_uri": "https://localhost:8080/"
        },
        "id": "ASz5_MlslxF8",
        "outputId": "fcf7ce8b-a1af-49c7-8f0b-6cb5cf60c326"
      },
      "execution_count": null,
      "outputs": [
        {
          "output_type": "execute_result",
          "data": {
            "text/plain": [
              "array([[1, 5],\n",
              "       [8, 7],\n",
              "       [4, 2],\n",
              "       [2, 9]])"
            ]
          },
          "metadata": {},
          "execution_count": 78
        }
      ]
    },
    {
      "cell_type": "code",
      "source": [
        "np.vsplit(a,2)[1]"
      ],
      "metadata": {
        "colab": {
          "base_uri": "https://localhost:8080/"
        },
        "id": "sIbd3nZAmBoo",
        "outputId": "f966dfb4-6edd-492f-c06e-2ebe2bd9595e"
      },
      "execution_count": null,
      "outputs": [
        {
          "output_type": "execute_result",
          "data": {
            "text/plain": [
              "array([[4, 2, 0, 1],\n",
              "       [2, 9, 8, 7]])"
            ]
          },
          "metadata": {},
          "execution_count": 80
        }
      ]
    },
    {
      "cell_type": "code",
      "source": [
        "#Hstack and Vstack (They stack arrays horizontally (column-wise) and vertically (rows on top of each other))\n",
        "\n",
        "a = np.array([1,2,3])\n",
        "b = np.array([4,5,6])\n",
        "\n",
        "print(np.vstack((a,b)))\n",
        "print(np.hstack((a,b)))"
      ],
      "metadata": {
        "colab": {
          "base_uri": "https://localhost:8080/"
        },
        "id": "WhtlcZA8maGk",
        "outputId": "a806c65f-b53a-46b4-bb3e-8e4d26077a2e"
      },
      "execution_count": null,
      "outputs": [
        {
          "output_type": "stream",
          "name": "stdout",
          "text": [
            "[[1 2 3]\n",
            " [4 5 6]]\n",
            "[1 2 3 4 5 6]\n"
          ]
        }
      ]
    },
    {
      "cell_type": "code",
      "source": [
        "#Transpose (It transposes an array)\n",
        "\n",
        "a = np.random.randint(5,size=(3,2))\n",
        "print(a)\n",
        "a.transpose()"
      ],
      "metadata": {
        "colab": {
          "base_uri": "https://localhost:8080/"
        },
        "id": "uqrAechDovhK",
        "outputId": "ce2f0106-5b45-4454-8e2e-3d8c77ad6a5d"
      },
      "execution_count": null,
      "outputs": [
        {
          "output_type": "stream",
          "name": "stdout",
          "text": [
            "[[3 1]\n",
            " [0 4]\n",
            " [2 2]]\n"
          ]
        },
        {
          "output_type": "execute_result",
          "data": {
            "text/plain": [
              "array([[3, 0, 2],\n",
              "       [1, 4, 2]])"
            ]
          },
          "metadata": {},
          "execution_count": 83
        }
      ]
    },
    {
      "cell_type": "code",
      "source": [
        "#Abs and Absolute (absolute return the absolute values of elements in an array)\n",
        "\n",
        "b = np.random.randint(-5,3,4)\n",
        "print(b)\n",
        "print('Absolute Array : ',np.abs(b))"
      ],
      "metadata": {
        "colab": {
          "base_uri": "https://localhost:8080/"
        },
        "id": "8bG20HX_rNNS",
        "outputId": "b2b08cc2-37d2-4c3c-efc1-2432a04f9771"
      },
      "execution_count": null,
      "outputs": [
        {
          "output_type": "stream",
          "name": "stdout",
          "text": [
            "[-2 -3 -4  0]\n",
            "Absolute Array :  [2 3 4 0]\n"
          ]
        }
      ]
    },
    {
      "cell_type": "code",
      "source": [
        "#Round and Around (round up the floats to a specified number of decimal points)\n",
        "\n",
        "a = np.random.random(5)\n",
        "print(a)\n",
        "print(np.round(a,2))\n",
        "print(np.around(a,3))"
      ],
      "metadata": {
        "colab": {
          "base_uri": "https://localhost:8080/"
        },
        "id": "ZqfAs6Lyrh2z",
        "outputId": "71fbf89a-0720-411b-c653-f7209c1e82e2"
      },
      "execution_count": null,
      "outputs": [
        {
          "output_type": "stream",
          "name": "stdout",
          "text": [
            "[0.17181387 0.99886483 0.61870742 0.88770412 0.71867653]\n",
            "[0.17 1.   0.62 0.89 0.72]\n",
            "[0.172 0.999 0.619 0.888 0.719]\n"
          ]
        }
      ]
    }
  ]
}